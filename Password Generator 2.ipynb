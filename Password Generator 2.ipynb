{
 "cells": [
  {
   "cell_type": "code",
   "execution_count": 15,
   "metadata": {},
   "outputs": [],
   "source": [
    "from tkinter import Tk, Label\n",
    "import random\n",
    "import string\n",
    "\n",
    "root = Tk()\n",
    "root.geometry(\"400x400\")\n",
    "root.resizable(0,0)\n",
    "root.title(\"PASSWORD GENERATOR\")\n",
    "\n",
    "def selection():\n",
    "    selection = choice.get()\n",
    "\n",
    "choice=IntVar()\n",
    "R1 = Radiobutton(root,text=\"Poor\",variable=choice,value=1,command=selection).pack(anchor=CENTER)\n",
    "R2 = Radiobutton(root,text=\"Average\",variable=choice,value=2,command=selection).pack(anchor=CENTER)\n",
    "R3 = Radiobutton(root,text=\"Advanced\",variable=choice,value=3,command=selection).pack(anchor=CENTER)\n",
    "labelchoice = Label(root)\n",
    "labelchoice.pack()\n",
    "\n",
    "lenlabel = StringVar()\n",
    "lenlabel.set(\"Password Length\")\n",
    "lentitle = Label(root,textvariable=lenlabel).pack()\n",
    "\n",
    "val = IntVar()\n",
    "spinlenght = Spinbox(root,from_=8, to_=24,textvariable=val,width=13).pack()\n",
    "\n",
    "\n",
    "def callback():\n",
    "    lsum.config(text=passgen())\n",
    "\n",
    "passgenButton = Button(root, text=\"Generate Password\", bd=5, height=2, command=callback, pady=3)\n",
    "passgenButton.pack()\n",
    "password=str(callback)\n",
    "\n",
    "\n",
    "lsum=Label(root,text=\"\")\n",
    "lsum.pack(side=BOTTOM)\n",
    "\n",
    "\n",
    "#logic\n",
    "\n",
    "poor=string.ascii_uppercase + string.ascii_lowercase\n",
    "average = string.ascii_uppercase + string.ascii_lowercase + string.digits\n",
    "advance =string.ascii_uppercase + string.ascii_lowercase + string.digits + string.punctuation\n",
    "\n",
    "def passgen():\n",
    "    if choice.get() == 1 :\n",
    "        return \"\".join(random.sample(poor,val.get()))\n",
    "    elif choice.get() == 2 :\n",
    "        return \"\".join(random.sample(average,val.get()))\n",
    "    elif choice.get() == 3 :\n",
    "        return \"\".join(random.sample(advance,val.get()))\n",
    "\n",
    "root.mainloop()\n"
   ]
  },
  {
   "cell_type": "code",
   "execution_count": null,
   "metadata": {},
   "outputs": [],
   "source": []
  }
 ],
 "metadata": {
  "kernelspec": {
   "display_name": "Python 3",
   "language": "python",
   "name": "python3"
  },
  "language_info": {
   "codemirror_mode": {
    "name": "ipython",
    "version": 3
   },
   "file_extension": ".py",
   "mimetype": "text/x-python",
   "name": "python",
   "nbconvert_exporter": "python",
   "pygments_lexer": "ipython3",
   "version": "3.7.1"
  }
 },
 "nbformat": 4,
 "nbformat_minor": 2
}
