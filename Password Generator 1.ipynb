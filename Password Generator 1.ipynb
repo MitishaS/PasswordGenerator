{
 "cells": [
  {
   "cell_type": "code",
   "execution_count": 13,
   "metadata": {},
   "outputs": [],
   "source": [
    "from tkinter import *\n",
    "import random, string\n",
    "#import pyperclip\n",
    "\n",
    "#initializing tkinter window \n",
    "root = Tk()\n",
    "root.geometry(\"400x400\")\n",
    "root.resizable(0,0)\n",
    "root.title(\"PASSWORD GENERATOR\")\n",
    "\n",
    "#labeling heading and footnote\n",
    "Label(root, text = 'PASSWORD GENERATOR' , font ='arial 15 bold').pack()\n",
    "\n",
    "\n",
    "###Password lenght\n",
    "pass_label = Label(root, text = 'PASSWORD LENGTH', font = 'arial 10 bold').pack()\n",
    "pass_len = IntVar()\n",
    "length = Spinbox(root, from_ = 8, to_ = 32 , textvariable = pass_len , width = 15).pack()\n",
    "\n",
    "#generate password\n",
    "pass_str = StringVar()\n",
    "def Generator():\n",
    "    password = ''\n",
    "    for x in range (0,4):\n",
    "        Password = (random.choice(string.ascii_uppercase) + random.choice(string.ascii_lowercase) + \n",
    "        random.choice(string.digits) + random.choice(string.punctuation))\n",
    "    for y in range(pass_len.get()- 4):\n",
    "        password = password + random.choice(string.ascii_uppercase + string.ascii_lowercase + \n",
    "                                            string.digits + string.punctuation)\n",
    "    pass_str.set(password)\n",
    "\n",
    "\n",
    "#buttons\n",
    "Button(root, text = \"GENERATE PASSWORD\" , command = Generator ).pack(pady= 5)\n",
    "Entry(root , textvariable = pass_str).pack()\n",
    "\n",
    "#def Copy_password():\n",
    " #   pyperclip.copy(pass_str.get())\n",
    "#Button(root, text = 'COPY TO CLIPBOARD', command = Copy_password).pack(pady=5)\n",
    "\n",
    "root.mainloop()"
   ]
  },
  {
   "cell_type": "code",
   "execution_count": null,
   "metadata": {
    "scrolled": true
   },
   "outputs": [],
   "source": []
  },
  {
   "cell_type": "code",
   "execution_count": 7,
   "metadata": {},
   "outputs": [],
   "source": []
  },
  {
   "cell_type": "code",
   "execution_count": null,
   "metadata": {},
   "outputs": [],
   "source": []
  }
 ],
 "metadata": {
  "kernelspec": {
   "display_name": "Python 3",
   "language": "python",
   "name": "python3"
  },
  "language_info": {
   "codemirror_mode": {
    "name": "ipython",
    "version": 3
   },
   "file_extension": ".py",
   "mimetype": "text/x-python",
   "name": "python",
   "nbconvert_exporter": "python",
   "pygments_lexer": "ipython3",
   "version": "3.7.1"
  }
 },
 "nbformat": 4,
 "nbformat_minor": 2
}
